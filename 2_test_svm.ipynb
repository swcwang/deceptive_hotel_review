{
 "cells": [
  {
   "cell_type": "markdown",
   "metadata": {},
   "source": [
    "**SVM Pipeline**"
   ]
  },
  {
   "cell_type": "code",
   "execution_count": 1,
   "metadata": {},
   "outputs": [],
   "source": [
    "import numpy as np\n",
    "import pandas as pd\n",
    "import matplotlib.pyplot as plt\n",
    "import os\n",
    "import re\n",
    "from time import time"
   ]
  },
  {
   "cell_type": "code",
   "execution_count": 2,
   "metadata": {},
   "outputs": [],
   "source": [
    "from sklearn.naive_bayes import MultinomialNB\n",
    "from sklearn.svm import LinearSVC, SVC\n",
    "from sklearn import decomposition\n",
    "from sklearn.linear_model import LogisticRegression\n",
    "from sklearn.metrics import accuracy_score, f1_score, classification_report\n",
    "from sklearn.model_selection import train_test_split\n",
    "from sklearn.feature_extraction.text import CountVectorizer\n",
    "from sklearn.feature_extraction.text import TfidfTransformer\n",
    "from sklearn.pipeline import Pipeline\n",
    "from sklearn.model_selection import GridSearchCV\n",
    "from sklearn.metrics import make_scorer\n",
    "from sklearn.utils.multiclass import unique_labels"
   ]
  },
  {
   "cell_type": "code",
   "execution_count": 3,
   "metadata": {},
   "outputs": [],
   "source": [
    "hotels=pd.read_csv(\"data/reviews_mod5.csv\")"
   ]
  },
  {
   "cell_type": "code",
   "execution_count": 4,
   "metadata": {},
   "outputs": [],
   "source": [
    "hotels = hotels.drop(hotels.columns[0], axis=1)"
   ]
  },
  {
   "cell_type": "markdown",
   "metadata": {},
   "source": [
    "__Function Definitions__"
   ]
  },
  {
   "cell_type": "code",
   "execution_count": 5,
   "metadata": {},
   "outputs": [],
   "source": [
    "def split_train_test_data(input_data, target, ratio=0.3, rand_state=42):\n",
    "    return train_test_split(input_data, target, test_size=ratio, stratify=target, random_state=rand_state)\n",
    "\n",
    "def apply_grid_search_cv(pipe, param_grid, X_train, y_train, X_test, y_test, print_flag=True, score_matrix=f1_score, n_jobs=-1, cv=5):\n",
    "    grid_search = GridSearchCV(pipe, param_grid=param_grid, scoring=make_scorer(score_matrix), n_jobs=n_jobs, cv=cv)\n",
    "    t0 = time()\n",
    "    res = grid_search.fit(X_train, y_train)\n",
    "    if print_flag:\n",
    "        print(\"done in %0.3fs\" % (time() - t0))\n",
    "        print(\"best params:\")\n",
    "        print(res.best_params_)\n",
    "        print(\"Best cross-validation score: {:.3f}\".format(grid_search.best_score_))\n",
    "        print(\"Test-set score: {:.3f}\".format(grid_search.score(X_test, y_test)))        \n",
    "    return grid_search\n",
    "\n",
    "def save_class_report_cv(grid_search, X_test, y_test, target_names, filename):\n",
    "    y_pred = grid_search.best_estimator_.predict(X_test)\n",
    "    report = classification_report(y_test, y_pred, target_names=target_names, output_dict=True)\n",
    "    df = pd.DataFrame(report).transpose()\n",
    "    df.to_csv(filename)\n",
    "    return df"
   ]
  },
  {
   "cell_type": "code",
   "execution_count": 6,
   "metadata": {},
   "outputs": [],
   "source": [
    "def save_cross_validation_results(grid_search, filename, print_flag=True):\n",
    "    param_keys = list(grid_search.cv_results_[\"params\"][0].keys())\n",
    "    matrix_list = [\"mean_test_score\", \"std_test_score\", \"rank_test_score\", \"mean_fit_time\"] \n",
    "    col = param_keys + matrix_list\n",
    "\n",
    "    cv_results = []\n",
    "    cv_results.append(col)    \n",
    "    \n",
    "    for param, score, std, rank, time in zip(grid_search.cv_results_[\"params\"], grid_search.cv_results_[\"mean_test_score\"],grid_search.cv_results_[\"std_test_score\"],\n",
    "                                             grid_search.cv_results_[\"rank_test_score\"], grid_search.cv_results_[\"mean_fit_time\"]):\n",
    "        row_item = list(param.values())\n",
    "        row_item.append(score)\n",
    "        row_item.append(std)\n",
    "        row_item.append(rank)\n",
    "        row_item.append(time)\n",
    "        cv_results.append(row_item)        \n",
    "    cv_results = pd.DataFrame(cv_results) \n",
    "    header = cv_results.iloc[0] \n",
    "    cv_results = cv_results[1:]\n",
    "    cv_results = cv_results.rename(columns = header)\n",
    "    cv_results = cv_results.sort_values(by=['rank_test_score'])\n",
    "    cv_results.to_csv(filename)\n",
    "    if print_flag:\n",
    "        print(cv_results.head(6))\n",
    "        print(cv_results.tail(6))"
   ]
  },
  {
   "cell_type": "markdown",
   "metadata": {},
   "source": [
    "__1. Choose input data and target__"
   ]
  },
  {
   "cell_type": "code",
   "execution_count": 7,
   "metadata": {},
   "outputs": [],
   "source": [
    "X = hotels[\"norm\"]\n",
    "y = hotels[\"deceptive\"]"
   ]
  },
  {
   "cell_type": "markdown",
   "metadata": {},
   "source": [
    "__2. Split data__"
   ]
  },
  {
   "cell_type": "code",
   "execution_count": 8,
   "metadata": {},
   "outputs": [],
   "source": [
    "X_train, X_test, y_train, y_test = split_train_test_data(X, y)"
   ]
  },
  {
   "cell_type": "markdown",
   "metadata": {},
   "source": [
    "__3. Build pipeline__"
   ]
  },
  {
   "cell_type": "code",
   "execution_count": 9,
   "metadata": {},
   "outputs": [],
   "source": [
    "steps = [\n",
    "    ('vect', CountVectorizer()),\n",
    "    ('tfidf', TfidfTransformer()),\n",
    "    ('clf', SVC()),\n",
    "]\n",
    "\n",
    "pipe = Pipeline(steps)"
   ]
  },
  {
   "cell_type": "markdown",
   "metadata": {},
   "source": [
    "__4. Construct parameters for cross validation testing__"
   ]
  },
  {
   "cell_type": "code",
   "execution_count": 10,
   "metadata": {},
   "outputs": [],
   "source": [
    "param_grid1 = [\n",
    "    {'vect__min_df': [1, 2, 5], \n",
    "        'vect__ngram_range': [(1, 1), (1, 2), (1, 3)],\n",
    "        'clf__kernel': ['rbf'], 'clf__C': [0.1, 1, 10, 100], \n",
    "         'clf__gamma': [0.01, 0.1, 1, 10]}\n",
    "]"
   ]
  },
  {
   "cell_type": "code",
   "execution_count": 11,
   "metadata": {},
   "outputs": [],
   "source": [
    "# using a different kernel\n",
    "param_grid2 = [\n",
    "    {'vect__min_df': [1, 2, 5], \n",
    "         'vect__ngram_range': [(1, 1), (1, 2), (1, 3)], \n",
    "         'clf__kernel': ['linear'], 'clf__C': [0.1, 1, 10, 100]}\n",
    "]"
   ]
  },
  {
   "cell_type": "markdown",
   "metadata": {},
   "source": [
    "__5. Apply Grid Serach CV__"
   ]
  },
  {
   "cell_type": "code",
   "execution_count": 12,
   "metadata": {},
   "outputs": [
    {
     "name": "stdout",
     "output_type": "stream",
     "text": [
      "done in 594.586s\n",
      "best params:\n",
      "{'clf__C': 100, 'clf__gamma': 0.01, 'clf__kernel': 'rbf', 'vect__min_df': 2, 'vect__ngram_range': (1, 3)}\n",
      "Best cross-validation score: 0.876\n",
      "Test-set score: 0.918\n"
     ]
    }
   ],
   "source": [
    "grid_search = apply_grid_search_cv(pipe, param_grid1, X_train, y_train, X_test, y_test)"
   ]
  },
  {
   "cell_type": "markdown",
   "metadata": {},
   "source": [
    "__6. Save Classification Report to File__"
   ]
  },
  {
   "cell_type": "code",
   "execution_count": 14,
   "metadata": {},
   "outputs": [
    {
     "name": "stdout",
     "output_type": "stream",
     "text": [
      "    clf__C clf__gamma clf__kernel vect__min_df vect__ngram_range  \\\n",
      "114    100       0.01         rbf            2            (1, 3)   \n",
      "123    100        0.1         rbf            2            (1, 3)   \n",
      "86      10        0.1         rbf            2            (1, 2)   \n",
      "122    100        0.1         rbf            2            (1, 2)   \n",
      "110    100       0.01         rbf            1            (1, 2)   \n",
      "87      10        0.1         rbf            2            (1, 3)   \n",
      "\n",
      "    mean_test_score std_test_score rank_test_score mean_fit_time  \n",
      "114          0.8758      0.0219081               1       4.68852  \n",
      "123        0.875361      0.0241683               2       4.57393  \n",
      "86          0.87453      0.0188827               3       3.03406  \n",
      "122        0.873756      0.0207876               4       3.10983  \n",
      "110        0.873668         0.0141               5       3.23239  \n",
      "87         0.872851      0.0247937               6       4.82305  \n",
      "   clf__C clf__gamma clf__kernel vect__min_df vect__ngram_range  \\\n",
      "32    0.1         10         rbf            2            (1, 2)   \n",
      "31    0.1         10         rbf            2            (1, 1)   \n",
      "30    0.1         10         rbf            1            (1, 3)   \n",
      "29    0.1         10         rbf            1            (1, 2)   \n",
      "28    0.1         10         rbf            1            (1, 1)   \n",
      "35    0.1         10         rbf            5            (1, 2)   \n",
      "\n",
      "   mean_test_score std_test_score rank_test_score mean_fit_time  \n",
      "32        0.668664     0.00219309             136        3.3588  \n",
      "31        0.668664     0.00219309             136       1.59009  \n",
      "30        0.668664     0.00219309             136       5.72078  \n",
      "29        0.668664     0.00219309             136       3.97161  \n",
      "28        0.668664     0.00219309             136       1.57299  \n",
      "35        0.668664     0.00219309             136       2.93323  \n"
     ]
    }
   ],
   "source": [
    "save_cross_validation_results(grid_search, \"output/svm_norm1_validation_res.csv\", True)"
   ]
  },
  {
   "cell_type": "code",
   "execution_count": 15,
   "metadata": {},
   "outputs": [
    {
     "data": {
      "text/html": [
       "<div>\n",
       "<style scoped>\n",
       "    .dataframe tbody tr th:only-of-type {\n",
       "        vertical-align: middle;\n",
       "    }\n",
       "\n",
       "    .dataframe tbody tr th {\n",
       "        vertical-align: top;\n",
       "    }\n",
       "\n",
       "    .dataframe thead th {\n",
       "        text-align: right;\n",
       "    }\n",
       "</style>\n",
       "<table border=\"1\" class=\"dataframe\">\n",
       "  <thead>\n",
       "    <tr style=\"text-align: right;\">\n",
       "      <th></th>\n",
       "      <th>f1-score</th>\n",
       "      <th>precision</th>\n",
       "      <th>recall</th>\n",
       "      <th>support</th>\n",
       "    </tr>\n",
       "  </thead>\n",
       "  <tbody>\n",
       "    <tr>\n",
       "      <th>truthful</th>\n",
       "      <td>0.915254</td>\n",
       "      <td>0.931034</td>\n",
       "      <td>0.900000</td>\n",
       "      <td>240.0</td>\n",
       "    </tr>\n",
       "    <tr>\n",
       "      <th>deceptive</th>\n",
       "      <td>0.918033</td>\n",
       "      <td>0.903226</td>\n",
       "      <td>0.933333</td>\n",
       "      <td>240.0</td>\n",
       "    </tr>\n",
       "    <tr>\n",
       "      <th>micro avg</th>\n",
       "      <td>0.916667</td>\n",
       "      <td>0.916667</td>\n",
       "      <td>0.916667</td>\n",
       "      <td>480.0</td>\n",
       "    </tr>\n",
       "    <tr>\n",
       "      <th>macro avg</th>\n",
       "      <td>0.916644</td>\n",
       "      <td>0.917130</td>\n",
       "      <td>0.916667</td>\n",
       "      <td>480.0</td>\n",
       "    </tr>\n",
       "    <tr>\n",
       "      <th>weighted avg</th>\n",
       "      <td>0.916644</td>\n",
       "      <td>0.917130</td>\n",
       "      <td>0.916667</td>\n",
       "      <td>480.0</td>\n",
       "    </tr>\n",
       "  </tbody>\n",
       "</table>\n",
       "</div>"
      ],
      "text/plain": [
       "              f1-score  precision    recall  support\n",
       "truthful      0.915254   0.931034  0.900000    240.0\n",
       "deceptive     0.918033   0.903226  0.933333    240.0\n",
       "micro avg     0.916667   0.916667  0.916667    480.0\n",
       "macro avg     0.916644   0.917130  0.916667    480.0\n",
       "weighted avg  0.916644   0.917130  0.916667    480.0"
      ]
     },
     "execution_count": 15,
     "metadata": {},
     "output_type": "execute_result"
    }
   ],
   "source": [
    "save_class_report_cv(grid_search, X_test, y_test, [\"truthful\", \"deceptive\"], \"output/svm_norm1_report.csv\")"
   ]
  },
  {
   "cell_type": "markdown",
   "metadata": {},
   "source": [
    "__7. Save model to file__"
   ]
  },
  {
   "cell_type": "code",
   "execution_count": 16,
   "metadata": {},
   "outputs": [
    {
     "data": {
      "text/plain": [
       "['output/svm_norm1.pkl']"
      ]
     },
     "execution_count": 16,
     "metadata": {},
     "output_type": "execute_result"
    }
   ],
   "source": [
    "from sklearn.externals import joblib\n",
    "joblib.dump(grid_search.best_estimator_, 'output/svm_norm1.pkl')"
   ]
  },
  {
   "cell_type": "markdown",
   "metadata": {},
   "source": [
    "__8. SVM Model 2 - Linear Kernel__"
   ]
  },
  {
   "cell_type": "code",
   "execution_count": 17,
   "metadata": {},
   "outputs": [
    {
     "name": "stdout",
     "output_type": "stream",
     "text": [
      "done in 138.400s\n",
      "best params:\n",
      "{'clf__C': 1, 'clf__kernel': 'linear', 'vect__min_df': 2, 'vect__ngram_range': (1, 3)}\n",
      "Best cross-validation score: 0.874\n",
      "Test-set score: 0.909\n"
     ]
    }
   ],
   "source": [
    "y = hotels[\"deceptive\"]\n",
    "X_train, X_test, y_train, y_test = split_train_test_data(X, y)\n",
    "grid_search2 = apply_grid_search_cv(pipe, param_grid2, X_train, y_train, X_test, y_test)"
   ]
  },
  {
   "cell_type": "code",
   "execution_count": 18,
   "metadata": {},
   "outputs": [
    {
     "name": "stdout",
     "output_type": "stream",
     "text": [
      "   clf__C clf__kernel vect__min_df vect__ngram_range mean_test_score  \\\n",
      "15      1      linear            2            (1, 3)        0.874125   \n",
      "33    100      linear            2            (1, 3)        0.873989   \n",
      "24     10      linear            2            (1, 3)        0.873989   \n",
      "20     10      linear            1            (1, 2)        0.871906   \n",
      "29    100      linear            1            (1, 2)        0.871906   \n",
      "32    100      linear            2            (1, 2)        0.871338   \n",
      "\n",
      "   std_test_score rank_test_score mean_fit_time  \n",
      "15      0.0210368               1       4.30018  \n",
      "33      0.0216878               2       4.33107  \n",
      "24      0.0216878               2       4.23071  \n",
      "20      0.0157255               4         3.426  \n",
      "29      0.0157255               4       3.34749  \n",
      "32      0.0187081               6       2.94377  \n",
      "   clf__C clf__kernel vect__min_df vect__ngram_range mean_test_score  \\\n",
      "34    100      linear            5            (1, 1)        0.828616   \n",
      "25     10      linear            5            (1, 1)        0.828616   \n",
      "7     0.1      linear            5            (1, 1)        0.827299   \n",
      "9     0.1      linear            5            (1, 3)        0.826642   \n",
      "4     0.1      linear            2            (1, 1)        0.825591   \n",
      "1     0.1      linear            1            (1, 1)        0.821132   \n",
      "\n",
      "   std_test_score rank_test_score mean_fit_time  \n",
      "34     0.00667984              31       1.23176  \n",
      "25     0.00667984              31       1.25449  \n",
      "7      0.00931182              33       1.40213  \n",
      "9       0.0160262              34       4.06065  \n",
      "4       0.0169277              35       1.56713  \n",
      "1      0.00928316              36       1.69775  \n"
     ]
    }
   ],
   "source": [
    "save_cross_validation_results(grid_search2, \"output/svm_norm2_validation_res.csv\", True)"
   ]
  },
  {
   "cell_type": "code",
   "execution_count": 19,
   "metadata": {},
   "outputs": [
    {
     "data": {
      "text/html": [
       "<div>\n",
       "<style scoped>\n",
       "    .dataframe tbody tr th:only-of-type {\n",
       "        vertical-align: middle;\n",
       "    }\n",
       "\n",
       "    .dataframe tbody tr th {\n",
       "        vertical-align: top;\n",
       "    }\n",
       "\n",
       "    .dataframe thead th {\n",
       "        text-align: right;\n",
       "    }\n",
       "</style>\n",
       "<table border=\"1\" class=\"dataframe\">\n",
       "  <thead>\n",
       "    <tr style=\"text-align: right;\">\n",
       "      <th></th>\n",
       "      <th>f1-score</th>\n",
       "      <th>precision</th>\n",
       "      <th>recall</th>\n",
       "      <th>support</th>\n",
       "    </tr>\n",
       "  </thead>\n",
       "  <tbody>\n",
       "    <tr>\n",
       "      <th>truthful</th>\n",
       "      <td>0.907563</td>\n",
       "      <td>0.915254</td>\n",
       "      <td>0.900000</td>\n",
       "      <td>240.0</td>\n",
       "    </tr>\n",
       "    <tr>\n",
       "      <th>deceptive</th>\n",
       "      <td>0.909091</td>\n",
       "      <td>0.901639</td>\n",
       "      <td>0.916667</td>\n",
       "      <td>240.0</td>\n",
       "    </tr>\n",
       "    <tr>\n",
       "      <th>micro avg</th>\n",
       "      <td>0.908333</td>\n",
       "      <td>0.908333</td>\n",
       "      <td>0.908333</td>\n",
       "      <td>480.0</td>\n",
       "    </tr>\n",
       "    <tr>\n",
       "      <th>macro avg</th>\n",
       "      <td>0.908327</td>\n",
       "      <td>0.908447</td>\n",
       "      <td>0.908333</td>\n",
       "      <td>480.0</td>\n",
       "    </tr>\n",
       "    <tr>\n",
       "      <th>weighted avg</th>\n",
       "      <td>0.908327</td>\n",
       "      <td>0.908447</td>\n",
       "      <td>0.908333</td>\n",
       "      <td>480.0</td>\n",
       "    </tr>\n",
       "  </tbody>\n",
       "</table>\n",
       "</div>"
      ],
      "text/plain": [
       "              f1-score  precision    recall  support\n",
       "truthful      0.907563   0.915254  0.900000    240.0\n",
       "deceptive     0.909091   0.901639  0.916667    240.0\n",
       "micro avg     0.908333   0.908333  0.908333    480.0\n",
       "macro avg     0.908327   0.908447  0.908333    480.0\n",
       "weighted avg  0.908327   0.908447  0.908333    480.0"
      ]
     },
     "execution_count": 19,
     "metadata": {},
     "output_type": "execute_result"
    }
   ],
   "source": [
    "save_class_report_cv(grid_search2, X_test, y_test, [\"truthful\", \"deceptive\"], \"output/svm_norm2_report.csv\")"
   ]
  },
  {
   "cell_type": "code",
   "execution_count": 20,
   "metadata": {},
   "outputs": [
    {
     "data": {
      "text/plain": [
       "['output/svm_norm2.pkl']"
      ]
     },
     "execution_count": 20,
     "metadata": {},
     "output_type": "execute_result"
    }
   ],
   "source": [
    "joblib.dump(grid_search.best_estimator_, 'output/svm_norm2.pkl')"
   ]
  },
  {
   "cell_type": "code",
   "execution_count": null,
   "metadata": {},
   "outputs": [],
   "source": []
  },
  {
   "cell_type": "markdown",
   "metadata": {},
   "source": [
    "__9. Sentiment - RBF Kernel__"
   ]
  },
  {
   "cell_type": "code",
   "execution_count": 22,
   "metadata": {},
   "outputs": [
    {
     "name": "stdout",
     "output_type": "stream",
     "text": [
      "done in 554.610s\n",
      "best params:\n",
      "{'clf__C': 100, 'clf__gamma': 0.1, 'clf__kernel': 'rbf', 'vect__min_df': 2, 'vect__ngram_range': (1, 2)}\n",
      "Best cross-validation score: 0.959\n",
      "Test-set score: 0.962\n"
     ]
    }
   ],
   "source": [
    "y = hotels[\"polarity\"]\n",
    "X_train, X_test, y_train, y_test = split_train_test_data(X, y)\n",
    "grid_search_p = apply_grid_search_cv(pipe, param_grid1, X_train, y_train, X_test, y_test)\n"
   ]
  },
  {
   "cell_type": "code",
   "execution_count": 25,
   "metadata": {},
   "outputs": [
    {
     "name": "stdout",
     "output_type": "stream",
     "text": [
      "    clf__C clf__gamma clf__kernel vect__min_df vect__ngram_range  \\\n",
      "122    100        0.1         rbf            2            (1, 2)   \n",
      "86      10        0.1         rbf            2            (1, 2)   \n",
      "113    100       0.01         rbf            2            (1, 2)   \n",
      "125    100        0.1         rbf            5            (1, 2)   \n",
      "90      10        0.1         rbf            5            (1, 3)   \n",
      "87      10        0.1         rbf            2            (1, 3)   \n",
      "\n",
      "    mean_test_score std_test_score rank_test_score mean_fit_time  \n",
      "122        0.958532      0.0143336               1       3.40155  \n",
      "86         0.957676      0.0149199               2       3.13113  \n",
      "113        0.957667       0.014396               3       2.82825  \n",
      "125        0.956002      0.0151397               4       2.76727  \n",
      "90         0.955983      0.0157994               5       3.59012  \n",
      "87          0.95581       0.014025               6       4.22101  \n",
      "   clf__C clf__gamma clf__kernel vect__min_df vect__ngram_range  \\\n",
      "32    0.1         10         rbf            2            (1, 2)   \n",
      "31    0.1         10         rbf            2            (1, 1)   \n",
      "30    0.1         10         rbf            1            (1, 3)   \n",
      "29    0.1         10         rbf            1            (1, 2)   \n",
      "28    0.1         10         rbf            1            (1, 1)   \n",
      "35    0.1         10         rbf            5            (1, 2)   \n",
      "\n",
      "   mean_test_score std_test_score rank_test_score mean_fit_time  \n",
      "32        0.668259     0.00079602             136       3.06762  \n",
      "31        0.668259     0.00079602             136       1.55278  \n",
      "30        0.668259     0.00079602             136       5.28994  \n",
      "29        0.668259     0.00079602             136       3.30572  \n",
      "28        0.668259     0.00079602             136       1.50146  \n",
      "35        0.668259     0.00079602             136        2.8743  \n"
     ]
    }
   ],
   "source": [
    "save_cross_validation_results(grid_search_p, \"output/svm_norm1_validation_res_sent.csv\", True)"
   ]
  },
  {
   "cell_type": "code",
   "execution_count": 26,
   "metadata": {},
   "outputs": [
    {
     "data": {
      "text/html": [
       "<div>\n",
       "<style scoped>\n",
       "    .dataframe tbody tr th:only-of-type {\n",
       "        vertical-align: middle;\n",
       "    }\n",
       "\n",
       "    .dataframe tbody tr th {\n",
       "        vertical-align: top;\n",
       "    }\n",
       "\n",
       "    .dataframe thead th {\n",
       "        text-align: right;\n",
       "    }\n",
       "</style>\n",
       "<table border=\"1\" class=\"dataframe\">\n",
       "  <thead>\n",
       "    <tr style=\"text-align: right;\">\n",
       "      <th></th>\n",
       "      <th>f1-score</th>\n",
       "      <th>precision</th>\n",
       "      <th>recall</th>\n",
       "      <th>support</th>\n",
       "    </tr>\n",
       "  </thead>\n",
       "  <tbody>\n",
       "    <tr>\n",
       "      <th>negative</th>\n",
       "      <td>0.962810</td>\n",
       "      <td>0.954918</td>\n",
       "      <td>0.970833</td>\n",
       "      <td>240.0</td>\n",
       "    </tr>\n",
       "    <tr>\n",
       "      <th>positive</th>\n",
       "      <td>0.962185</td>\n",
       "      <td>0.970339</td>\n",
       "      <td>0.954167</td>\n",
       "      <td>240.0</td>\n",
       "    </tr>\n",
       "    <tr>\n",
       "      <th>micro avg</th>\n",
       "      <td>0.962500</td>\n",
       "      <td>0.962500</td>\n",
       "      <td>0.962500</td>\n",
       "      <td>480.0</td>\n",
       "    </tr>\n",
       "    <tr>\n",
       "      <th>macro avg</th>\n",
       "      <td>0.962497</td>\n",
       "      <td>0.962629</td>\n",
       "      <td>0.962500</td>\n",
       "      <td>480.0</td>\n",
       "    </tr>\n",
       "    <tr>\n",
       "      <th>weighted avg</th>\n",
       "      <td>0.962497</td>\n",
       "      <td>0.962629</td>\n",
       "      <td>0.962500</td>\n",
       "      <td>480.0</td>\n",
       "    </tr>\n",
       "  </tbody>\n",
       "</table>\n",
       "</div>"
      ],
      "text/plain": [
       "              f1-score  precision    recall  support\n",
       "negative      0.962810   0.954918  0.970833    240.0\n",
       "positive      0.962185   0.970339  0.954167    240.0\n",
       "micro avg     0.962500   0.962500  0.962500    480.0\n",
       "macro avg     0.962497   0.962629  0.962500    480.0\n",
       "weighted avg  0.962497   0.962629  0.962500    480.0"
      ]
     },
     "execution_count": 26,
     "metadata": {},
     "output_type": "execute_result"
    }
   ],
   "source": [
    "save_class_report_cv(grid_search_p, X_test, y_test, [\"negative\", \"positive\"], \"output/svm_norm1_report_sent.csv\")"
   ]
  },
  {
   "cell_type": "code",
   "execution_count": 27,
   "metadata": {},
   "outputs": [
    {
     "data": {
      "text/plain": [
       "['output/svm_norm1_sent.pkl']"
      ]
     },
     "execution_count": 27,
     "metadata": {},
     "output_type": "execute_result"
    }
   ],
   "source": [
    "from sklearn.externals import joblib\n",
    "joblib.dump(grid_search.best_estimator_, 'output/svm_norm1_sent.pkl')"
   ]
  },
  {
   "cell_type": "code",
   "execution_count": null,
   "metadata": {},
   "outputs": [],
   "source": []
  },
  {
   "cell_type": "markdown",
   "metadata": {},
   "source": [
    "__10. Sentiment Analysis - Linear Kernel__"
   ]
  },
  {
   "cell_type": "code",
   "execution_count": 28,
   "metadata": {},
   "outputs": [
    {
     "name": "stdout",
     "output_type": "stream",
     "text": [
      "done in 131.224s\n",
      "best params:\n",
      "{'clf__C': 10, 'clf__kernel': 'linear', 'vect__min_df': 2, 'vect__ngram_range': (1, 2)}\n",
      "Best cross-validation score: 0.959\n",
      "Test-set score: 0.966\n"
     ]
    }
   ],
   "source": [
    "grid_search_p2 = apply_grid_search_cv(pipe, param_grid2, X_train, y_train, X_test, y_test)"
   ]
  },
  {
   "cell_type": "code",
   "execution_count": 29,
   "metadata": {},
   "outputs": [
    {
     "name": "stdout",
     "output_type": "stream",
     "text": [
      "    clf__C clf__gamma clf__kernel vect__min_df vect__ngram_range  \\\n",
      "122    100        0.1         rbf            2            (1, 2)   \n",
      "86      10        0.1         rbf            2            (1, 2)   \n",
      "113    100       0.01         rbf            2            (1, 2)   \n",
      "125    100        0.1         rbf            5            (1, 2)   \n",
      "90      10        0.1         rbf            5            (1, 3)   \n",
      "87      10        0.1         rbf            2            (1, 3)   \n",
      "\n",
      "    mean_test_score std_test_score rank_test_score mean_fit_time  \n",
      "122        0.958532      0.0143336               1       3.40155  \n",
      "86         0.957676      0.0149199               2       3.13113  \n",
      "113        0.957667       0.014396               3       2.82825  \n",
      "125        0.956002      0.0151397               4       2.76727  \n",
      "90         0.955983      0.0157994               5       3.59012  \n",
      "87          0.95581       0.014025               6       4.22101  \n",
      "   clf__C clf__gamma clf__kernel vect__min_df vect__ngram_range  \\\n",
      "32    0.1         10         rbf            2            (1, 2)   \n",
      "31    0.1         10         rbf            2            (1, 1)   \n",
      "30    0.1         10         rbf            1            (1, 3)   \n",
      "29    0.1         10         rbf            1            (1, 2)   \n",
      "28    0.1         10         rbf            1            (1, 1)   \n",
      "35    0.1         10         rbf            5            (1, 2)   \n",
      "\n",
      "   mean_test_score std_test_score rank_test_score mean_fit_time  \n",
      "32        0.668259     0.00079602             136       3.06762  \n",
      "31        0.668259     0.00079602             136       1.55278  \n",
      "30        0.668259     0.00079602             136       5.28994  \n",
      "29        0.668259     0.00079602             136       3.30572  \n",
      "28        0.668259     0.00079602             136       1.50146  \n",
      "35        0.668259     0.00079602             136        2.8743  \n"
     ]
    }
   ],
   "source": [
    "save_cross_validation_results(grid_search_p, \"output/svm_norm2_validation_res_sent.csv\", True)"
   ]
  },
  {
   "cell_type": "code",
   "execution_count": 30,
   "metadata": {},
   "outputs": [
    {
     "data": {
      "text/html": [
       "<div>\n",
       "<style scoped>\n",
       "    .dataframe tbody tr th:only-of-type {\n",
       "        vertical-align: middle;\n",
       "    }\n",
       "\n",
       "    .dataframe tbody tr th {\n",
       "        vertical-align: top;\n",
       "    }\n",
       "\n",
       "    .dataframe thead th {\n",
       "        text-align: right;\n",
       "    }\n",
       "</style>\n",
       "<table border=\"1\" class=\"dataframe\">\n",
       "  <thead>\n",
       "    <tr style=\"text-align: right;\">\n",
       "      <th></th>\n",
       "      <th>f1-score</th>\n",
       "      <th>precision</th>\n",
       "      <th>recall</th>\n",
       "      <th>support</th>\n",
       "    </tr>\n",
       "  </thead>\n",
       "  <tbody>\n",
       "    <tr>\n",
       "      <th>negative</th>\n",
       "      <td>0.966942</td>\n",
       "      <td>0.959016</td>\n",
       "      <td>0.975000</td>\n",
       "      <td>240.0</td>\n",
       "    </tr>\n",
       "    <tr>\n",
       "      <th>positive</th>\n",
       "      <td>0.966387</td>\n",
       "      <td>0.974576</td>\n",
       "      <td>0.958333</td>\n",
       "      <td>240.0</td>\n",
       "    </tr>\n",
       "    <tr>\n",
       "      <th>micro avg</th>\n",
       "      <td>0.966667</td>\n",
       "      <td>0.966667</td>\n",
       "      <td>0.966667</td>\n",
       "      <td>480.0</td>\n",
       "    </tr>\n",
       "    <tr>\n",
       "      <th>macro avg</th>\n",
       "      <td>0.966664</td>\n",
       "      <td>0.966796</td>\n",
       "      <td>0.966667</td>\n",
       "      <td>480.0</td>\n",
       "    </tr>\n",
       "    <tr>\n",
       "      <th>weighted avg</th>\n",
       "      <td>0.966664</td>\n",
       "      <td>0.966796</td>\n",
       "      <td>0.966667</td>\n",
       "      <td>480.0</td>\n",
       "    </tr>\n",
       "  </tbody>\n",
       "</table>\n",
       "</div>"
      ],
      "text/plain": [
       "              f1-score  precision    recall  support\n",
       "negative      0.966942   0.959016  0.975000    240.0\n",
       "positive      0.966387   0.974576  0.958333    240.0\n",
       "micro avg     0.966667   0.966667  0.966667    480.0\n",
       "macro avg     0.966664   0.966796  0.966667    480.0\n",
       "weighted avg  0.966664   0.966796  0.966667    480.0"
      ]
     },
     "execution_count": 30,
     "metadata": {},
     "output_type": "execute_result"
    }
   ],
   "source": [
    "save_class_report_cv(grid_search_p2, X_test, y_test, [\"negative\", \"positive\"], \"output/svm_norm2_report_sent.csv\")"
   ]
  },
  {
   "cell_type": "code",
   "execution_count": 31,
   "metadata": {},
   "outputs": [
    {
     "data": {
      "text/plain": [
       "['output/svm_norm2_sent.pkl']"
      ]
     },
     "execution_count": 31,
     "metadata": {},
     "output_type": "execute_result"
    }
   ],
   "source": [
    "from sklearn.externals import joblib\n",
    "joblib.dump(grid_search.best_estimator_, 'output/svm_norm2_sent.pkl')"
   ]
  },
  {
   "cell_type": "code",
   "execution_count": null,
   "metadata": {},
   "outputs": [],
   "source": []
  }
 ],
 "metadata": {
  "kernelspec": {
   "display_name": "Python [conda env:thesis]",
   "language": "python",
   "name": "conda-env-thesis-py"
  },
  "language_info": {
   "codemirror_mode": {
    "name": "ipython",
    "version": 3
   },
   "file_extension": ".py",
   "mimetype": "text/x-python",
   "name": "python",
   "nbconvert_exporter": "python",
   "pygments_lexer": "ipython3",
   "version": "3.6.8"
  }
 },
 "nbformat": 4,
 "nbformat_minor": 2
}
