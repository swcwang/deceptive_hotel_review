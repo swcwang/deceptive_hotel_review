{
 "cells": [
  {
   "cell_type": "markdown",
   "metadata": {},
   "source": [
    "**Logistic Regression Pipeline**"
   ]
  },
  {
   "cell_type": "code",
   "execution_count": 2,
   "metadata": {},
   "outputs": [],
   "source": [
    "import numpy as np\n",
    "import pandas as pd\n",
    "import matplotlib.pyplot as plt\n",
    "import os\n",
    "import re\n",
    "from time import time"
   ]
  },
  {
   "cell_type": "code",
   "execution_count": 3,
   "metadata": {},
   "outputs": [],
   "source": [
    "from sklearn.svm import LinearSVC, SVC\n",
    "from sklearn import decomposition\n",
    "from sklearn.linear_model import LogisticRegression\n",
    "from sklearn.metrics import accuracy_score, f1_score, classification_report\n",
    "from sklearn.model_selection import train_test_split\n",
    "from sklearn.feature_extraction.text import CountVectorizer\n",
    "from sklearn.feature_extraction.text import TfidfTransformer\n",
    "from sklearn.pipeline import Pipeline\n",
    "from sklearn.model_selection import GridSearchCV\n",
    "from sklearn.metrics import make_scorer\n",
    "from sklearn.utils.multiclass import unique_labels"
   ]
  },
  {
   "cell_type": "code",
   "execution_count": 4,
   "metadata": {},
   "outputs": [],
   "source": [
    "hotels=pd.read_csv(\"data/reviews_mod5.csv\")"
   ]
  },
  {
   "cell_type": "code",
   "execution_count": 5,
   "metadata": {},
   "outputs": [],
   "source": [
    "hotels = hotels.drop(hotels.columns[0], axis=1)"
   ]
  },
  {
   "cell_type": "markdown",
   "metadata": {},
   "source": [
    "__Function Definitions__"
   ]
  },
  {
   "cell_type": "code",
   "execution_count": 6,
   "metadata": {},
   "outputs": [],
   "source": [
    "def split_train_test_data(input_data, target, ratio=0.3, rand_state=42):\n",
    "    return train_test_split(input_data, target, test_size=ratio, stratify=target, random_state=rand_state)\n",
    "\n",
    "def apply_grid_search_cv(pipe, param_grid, X_train, y_train, X_test, y_test, print_flag=True, score_matrix=f1_score, n_jobs=-1, cv=5):\n",
    "    grid_search = GridSearchCV(pipe, param_grid=param_grid, scoring=make_scorer(score_matrix), n_jobs=n_jobs, cv=cv)\n",
    "    t0 = time()\n",
    "    res = grid_search.fit(X_train, y_train)\n",
    "    if print_flag:\n",
    "        print(\"done in %0.3fs\" % (time() - t0))\n",
    "        print(\"best params:\")\n",
    "        print(res.best_params_)\n",
    "        print(\"Best cross-validation score: {:.3f}\".format(grid_search.best_score_))\n",
    "        print(\"Test-set score: {:.3f}\".format(grid_search.score(X_test, y_test)))   \n",
    "    return grid_search\n",
    "\n",
    "def save_class_report_cv(grid_search, X_test, y_test, target_names, filename):\n",
    "    y_pred = grid_search.best_estimator_.predict(X_test)\n",
    "    report = classification_report(y_test, y_pred, target_names=target_names, output_dict=True)\n",
    "    df = pd.DataFrame(report).transpose()\n",
    "    df.to_csv(filename)\n",
    "    return df"
   ]
  },
  {
   "cell_type": "code",
   "execution_count": 7,
   "metadata": {},
   "outputs": [],
   "source": [
    "def save_cross_validation_results(grid_search, filename, print_flag=True):\n",
    "    param_keys = list(grid_search.cv_results_[\"params\"][0].keys())\n",
    "    matrix_list = [\"mean_test_score\", \"std_test_score\", \"rank_test_score\", \"mean_fit_time\"] \n",
    "    col = param_keys + matrix_list\n",
    "\n",
    "    cv_results = []\n",
    "    cv_results.append(col)    \n",
    "    \n",
    "    for param, score, std, rank, time in zip(grid_search.cv_results_[\"params\"], grid_search.cv_results_[\"mean_test_score\"],grid_search.cv_results_[\"std_test_score\"],\n",
    "                                             grid_search.cv_results_[\"rank_test_score\"], grid_search.cv_results_[\"mean_fit_time\"]):\n",
    "        row_item = list(param.values())\n",
    "        row_item.append(score)\n",
    "        row_item.append(std)\n",
    "        row_item.append(rank)\n",
    "        row_item.append(time)\n",
    "        cv_results.append(row_item)\n",
    "        \n",
    "    cv_results = pd.DataFrame(cv_results) \n",
    "    header = cv_results.iloc[0] \n",
    "    cv_results = cv_results[1:]\n",
    "    cv_results = cv_results.rename(columns = header)\n",
    "    cv_results = cv_results.sort_values(by=['rank_test_score'])\n",
    "    cv_results.to_csv(filename)\n",
    "    if print_flag:\n",
    "        print(cv_results.head(6))\n",
    "   #     print(cv_results.tail(6))"
   ]
  },
  {
   "cell_type": "markdown",
   "metadata": {},
   "source": [
    "__1. Choose input data and target__"
   ]
  },
  {
   "cell_type": "code",
   "execution_count": 8,
   "metadata": {},
   "outputs": [],
   "source": [
    "X = hotels[\"norm\"]\n",
    "y = hotels[\"deceptive\"]"
   ]
  },
  {
   "cell_type": "markdown",
   "metadata": {},
   "source": [
    "__2. Split data__"
   ]
  },
  {
   "cell_type": "code",
   "execution_count": 9,
   "metadata": {},
   "outputs": [],
   "source": [
    "X_train, X_test, y_train, y_test = split_train_test_data(X, y)"
   ]
  },
  {
   "cell_type": "markdown",
   "metadata": {},
   "source": [
    "__3. Build pipeline__"
   ]
  },
  {
   "cell_type": "code",
   "execution_count": 10,
   "metadata": {},
   "outputs": [],
   "source": [
    "steps_lr = [\n",
    "    ('vect', CountVectorizer()),\n",
    "    ('tfidf', TfidfTransformer()),\n",
    "    ('clf', LogisticRegression()),\n",
    "]\n",
    "\n",
    "pipe_lr = Pipeline(steps_lr)"
   ]
  },
  {
   "cell_type": "markdown",
   "metadata": {},
   "source": [
    "__4. Construct parameters for cross validation testing__"
   ]
  },
  {
   "cell_type": "code",
   "execution_count": 11,
   "metadata": {},
   "outputs": [],
   "source": [
    "param_grid_lr = [\n",
    "    {'vect__stop_words': ['english', None],\n",
    "        'vect__min_df': [1, 2, 5], \n",
    "        'vect__ngram_range': [(1, 1), (1, 2), (1, 3)],\n",
    "         'clf__C': [0.1, 1, 10, 100, 1000]}\n",
    "]"
   ]
  },
  {
   "cell_type": "markdown",
   "metadata": {},
   "source": [
    "__5. Apply Grid Serach CV__"
   ]
  },
  {
   "cell_type": "code",
   "execution_count": 12,
   "metadata": {},
   "outputs": [
    {
     "name": "stdout",
     "output_type": "stream",
     "text": [
      "done in 66.524s\n",
      "best params:\n",
      "{'clf__C': 1000, 'vect__min_df': 2, 'vect__ngram_range': (1, 2), 'vect__stop_words': None}\n",
      "Best cross-validation score: 0.878\n",
      "Test-set score: 0.902\n"
     ]
    },
    {
     "name": "stderr",
     "output_type": "stream",
     "text": [
      "C:\\Users\\Susan\\Anaconda3\\envs\\thesis\\lib\\site-packages\\sklearn\\linear_model\\logistic.py:433: FutureWarning: Default solver will be changed to 'lbfgs' in 0.22. Specify a solver to silence this warning.\n",
      "  FutureWarning)\n"
     ]
    }
   ],
   "source": [
    "log_reg_grid_search = apply_grid_search_cv(pipe_lr, param_grid_lr, X_train, y_train, X_test, y_test)"
   ]
  },
  {
   "cell_type": "code",
   "execution_count": null,
   "metadata": {},
   "outputs": [],
   "source": []
  },
  {
   "cell_type": "markdown",
   "metadata": {},
   "source": [
    "__6. Save Reports to File__"
   ]
  },
  {
   "cell_type": "code",
   "execution_count": 13,
   "metadata": {},
   "outputs": [
    {
     "name": "stdout",
     "output_type": "stream",
     "text": [
      "   clf__C vect__min_df vect__ngram_range vect__stop_words mean_test_score  \\\n",
      "82   1000            2            (1, 2)             None        0.878242   \n",
      "84   1000            2            (1, 3)             None        0.877947   \n",
      "35      1            5            (1, 3)          english        0.875016   \n",
      "64    100            2            (1, 2)             None        0.874494   \n",
      "47     10            2            (1, 3)          english        0.874472   \n",
      "66    100            2            (1, 3)             None        0.874053   \n",
      "\n",
      "   std_test_score rank_test_score mean_fit_time  \n",
      "82      0.0190659               1      0.772182  \n",
      "84      0.0232352               2       1.50722  \n",
      "35      0.0185063               3      0.821003  \n",
      "64       0.018163               4      0.727654  \n",
      "47      0.0172921               5      0.868284  \n",
      "66       0.017291               6       1.48066  \n"
     ]
    }
   ],
   "source": [
    "save_cross_validation_results(log_reg_grid_search, \"output/log_reg_norm1_validation_res.csv\", True)"
   ]
  },
  {
   "cell_type": "code",
   "execution_count": 14,
   "metadata": {},
   "outputs": [
    {
     "data": {
      "text/html": [
       "<div>\n",
       "<style scoped>\n",
       "    .dataframe tbody tr th:only-of-type {\n",
       "        vertical-align: middle;\n",
       "    }\n",
       "\n",
       "    .dataframe tbody tr th {\n",
       "        vertical-align: top;\n",
       "    }\n",
       "\n",
       "    .dataframe thead th {\n",
       "        text-align: right;\n",
       "    }\n",
       "</style>\n",
       "<table border=\"1\" class=\"dataframe\">\n",
       "  <thead>\n",
       "    <tr style=\"text-align: right;\">\n",
       "      <th></th>\n",
       "      <th>f1-score</th>\n",
       "      <th>precision</th>\n",
       "      <th>recall</th>\n",
       "      <th>support</th>\n",
       "    </tr>\n",
       "  </thead>\n",
       "  <tbody>\n",
       "    <tr>\n",
       "      <th>truthful</th>\n",
       "      <td>0.897872</td>\n",
       "      <td>0.917391</td>\n",
       "      <td>0.879167</td>\n",
       "      <td>240.0</td>\n",
       "    </tr>\n",
       "    <tr>\n",
       "      <th>deceptive</th>\n",
       "      <td>0.902041</td>\n",
       "      <td>0.884000</td>\n",
       "      <td>0.920833</td>\n",
       "      <td>240.0</td>\n",
       "    </tr>\n",
       "    <tr>\n",
       "      <th>micro avg</th>\n",
       "      <td>0.900000</td>\n",
       "      <td>0.900000</td>\n",
       "      <td>0.900000</td>\n",
       "      <td>480.0</td>\n",
       "    </tr>\n",
       "    <tr>\n",
       "      <th>macro avg</th>\n",
       "      <td>0.899957</td>\n",
       "      <td>0.900696</td>\n",
       "      <td>0.900000</td>\n",
       "      <td>480.0</td>\n",
       "    </tr>\n",
       "    <tr>\n",
       "      <th>weighted avg</th>\n",
       "      <td>0.899957</td>\n",
       "      <td>0.900696</td>\n",
       "      <td>0.900000</td>\n",
       "      <td>480.0</td>\n",
       "    </tr>\n",
       "  </tbody>\n",
       "</table>\n",
       "</div>"
      ],
      "text/plain": [
       "              f1-score  precision    recall  support\n",
       "truthful      0.897872   0.917391  0.879167    240.0\n",
       "deceptive     0.902041   0.884000  0.920833    240.0\n",
       "micro avg     0.900000   0.900000  0.900000    480.0\n",
       "macro avg     0.899957   0.900696  0.900000    480.0\n",
       "weighted avg  0.899957   0.900696  0.900000    480.0"
      ]
     },
     "execution_count": 14,
     "metadata": {},
     "output_type": "execute_result"
    }
   ],
   "source": [
    "save_class_report_cv(log_reg_grid_search, X_test, y_test, [\"truthful\", \"deceptive\"], \"output/log_reg_norm1_report.csv\")"
   ]
  },
  {
   "cell_type": "markdown",
   "metadata": {},
   "source": [
    "__7. Save model to file__"
   ]
  },
  {
   "cell_type": "code",
   "execution_count": 15,
   "metadata": {},
   "outputs": [
    {
     "data": {
      "text/plain": [
       "['output/log_reg_norm1.pkl']"
      ]
     },
     "execution_count": 15,
     "metadata": {},
     "output_type": "execute_result"
    }
   ],
   "source": [
    "from sklearn.externals import joblib\n",
    "joblib.dump(log_reg_grid_search.best_estimator_, 'output/log_reg_norm1.pkl')"
   ]
  },
  {
   "cell_type": "markdown",
   "metadata": {},
   "source": [
    "__7b. Identify important features for deceptive opinion spam__"
   ]
  },
  {
   "cell_type": "code",
   "execution_count": 33,
   "metadata": {},
   "outputs": [
    {
     "name": "stdout",
     "output_type": "stream",
     "text": [
      "Features with lowest tfidf:\n",
      "['to hit' 'chosen for' 'should say' 'show our' 'chinese restaurant'\n",
      " 'shower really' 'shower tub' 'showers oh' 'whichworked' 'whichworked out'\n",
      " 'sight the' 'sign of' 'chicago best' 'chi town' 'checkout the'\n",
      " 'treated well' 'should at' 'charge us' 'shortage of' 'claimed on']\n",
      "Features with highest tfidf: \n",
      "['cd' 'hilton' 'children' 'compared to' 'compared' 'the construction'\n",
      " 'my wedding' 'yeah' 'our guests' 'cab' 'garage' 'deal' 'cousin'\n",
      " 'my cousin' 'mother' 'computers' 'avoid' 'affina' 'policy' 'yellow']\n"
     ]
    }
   ],
   "source": [
    "vectorizer = log_reg_grid_search.best_estimator_.named_steps[\"vect\"]\n",
    "tfidf = log_reg_grid_search.best_estimator_.named_steps[\"tfidf\"]\n",
    "\n",
    "# transform the training dataset\n",
    "X_train1 = vectorizer.transform(X_train)\n",
    "X_train1 = tfidf.transform(X_train1)\n",
    "\n",
    "max_value = X_train1.max(axis=0).toarray().ravel()\n",
    "sorted_by_tfidf = max_value.argsort()\n",
    "\n",
    "feature_names = np.array(vectorizer.get_feature_names())\n",
    "\n",
    "print(\"Features with lowest tfidf:\\n{}\".format(\n",
    "    feature_names[sorted_by_tfidf[:20]]))\n",
    "\n",
    "print(\"Features with highest tfidf: \\n{}\".format(\n",
    "    feature_names[sorted_by_tfidf[-20:]]))"
   ]
  },
  {
   "cell_type": "code",
   "execution_count": 34,
   "metadata": {},
   "outputs": [
    {
     "data": {
      "image/png": "[encoded data removed]",
      "text/plain": [
       "<Figure size 1080x360 with 1 Axes>"
      ]
     },
     "metadata": {
      "needs_background": "light"
     },
     "output_type": "display_data"
    }
   ],
   "source": [
    "import mglearn\n",
    "\n",
    "mglearn.tools.visualize_coefficients(\n",
    "    log_reg_grid_search.best_estimator_.named_steps[\"clf\"].coef_,\n",
    "    feature_names, n_top_features=30)"
   ]
  },
  {
   "cell_type": "markdown",
   "metadata": {},
   "source": [
    "__Observation:__ The negative coefficients on the left belong to words that represent negative \"deceptions\", ie. truthful reviews. While the positive coefficients represent deceptive reviews.\n",
    "Since the best estimator chosen by the grid search did not include stop words, we can see some common stop words being included, i.e on, we, is etc. \n",
    "The difference between the left and the right are subtle, but we can see the truthful reviews (on the left) has more simple and specific words, such as location, floor, small, river etc, while the deceptive reviews (on the right) has more extravagent words like \"luxury\", \"luxurious\", \"amazing\", \"experience\" etc, as well as more mentions of hotel, hotel names and \"Chicago\"."
   ]
  },
  {
   "cell_type": "markdown",
   "metadata": {},
   "source": [
    "__8. Sentiment Analysis__"
   ]
  },
  {
   "cell_type": "code",
   "execution_count": 23,
   "metadata": {},
   "outputs": [
    {
     "name": "stdout",
     "output_type": "stream",
     "text": [
      "done in 68.736s\n",
      "best params:\n",
      "{'clf__C': 1000, 'vect__min_df': 2, 'vect__ngram_range': (1, 2), 'vect__stop_words': None}\n",
      "Best cross-validation score: 0.956\n",
      "Test-set score: 0.962\n"
     ]
    },
    {
     "name": "stderr",
     "output_type": "stream",
     "text": [
      "C:\\Users\\Susan\\Anaconda3\\envs\\thesis\\lib\\site-packages\\sklearn\\linear_model\\logistic.py:433: FutureWarning: Default solver will be changed to 'lbfgs' in 0.22. Specify a solver to silence this warning.\n",
      "  FutureWarning)\n"
     ]
    }
   ],
   "source": [
    "y = hotels[\"polarity\"]\n",
    "X_train, X_test, y_train, y_test = split_train_test_data(X, y)\n",
    "log_reg_grid_search_p = apply_grid_search_cv(pipe_lr, param_grid_lr, X_train, y_train, X_test, y_test)"
   ]
  },
  {
   "cell_type": "code",
   "execution_count": 24,
   "metadata": {},
   "outputs": [
    {
     "name": "stdout",
     "output_type": "stream",
     "text": [
      "   clf__C vect__min_df vect__ngram_range vect__stop_words mean_test_score  \\\n",
      "82   1000            2            (1, 2)             None          0.9558   \n",
      "72    100            5            (1, 3)             None        0.955158   \n",
      "70    100            5            (1, 2)             None        0.954152   \n",
      "90   1000            5            (1, 3)             None        0.953249   \n",
      "88   1000            5            (1, 2)             None        0.953118   \n",
      "64    100            2            (1, 2)             None        0.952962   \n",
      "\n",
      "   std_test_score rank_test_score mean_fit_time  \n",
      "82      0.0134669               1      0.773156  \n",
      "72      0.0124381               2       1.43835  \n",
      "70      0.0134553               3      0.689483  \n",
      "90      0.0134161               4       1.39993  \n",
      "88      0.0157598               5      0.716118  \n",
      "64      0.0142242               6      0.758571  \n"
     ]
    }
   ],
   "source": [
    "save_cross_validation_results(log_reg_grid_search_p, \"output/log_reg_norm1_sent_validation_res.csv\")"
   ]
  },
  {
   "cell_type": "code",
   "execution_count": 25,
   "metadata": {},
   "outputs": [
    {
     "data": {
      "text/html": [
       "<div>\n",
       "<style scoped>\n",
       "    .dataframe tbody tr th:only-of-type {\n",
       "        vertical-align: middle;\n",
       "    }\n",
       "\n",
       "    .dataframe tbody tr th {\n",
       "        vertical-align: top;\n",
       "    }\n",
       "\n",
       "    .dataframe thead th {\n",
       "        text-align: right;\n",
       "    }\n",
       "</style>\n",
       "<table border=\"1\" class=\"dataframe\">\n",
       "  <thead>\n",
       "    <tr style=\"text-align: right;\">\n",
       "      <th></th>\n",
       "      <th>f1-score</th>\n",
       "      <th>precision</th>\n",
       "      <th>recall</th>\n",
       "      <th>support</th>\n",
       "    </tr>\n",
       "  </thead>\n",
       "  <tbody>\n",
       "    <tr>\n",
       "      <th>negative</th>\n",
       "      <td>0.962963</td>\n",
       "      <td>0.951220</td>\n",
       "      <td>0.9750</td>\n",
       "      <td>240.0</td>\n",
       "    </tr>\n",
       "    <tr>\n",
       "      <th>positive</th>\n",
       "      <td>0.962025</td>\n",
       "      <td>0.974359</td>\n",
       "      <td>0.9500</td>\n",
       "      <td>240.0</td>\n",
       "    </tr>\n",
       "    <tr>\n",
       "      <th>micro avg</th>\n",
       "      <td>0.962500</td>\n",
       "      <td>0.962500</td>\n",
       "      <td>0.9625</td>\n",
       "      <td>480.0</td>\n",
       "    </tr>\n",
       "    <tr>\n",
       "      <th>macro avg</th>\n",
       "      <td>0.962494</td>\n",
       "      <td>0.962789</td>\n",
       "      <td>0.9625</td>\n",
       "      <td>480.0</td>\n",
       "    </tr>\n",
       "    <tr>\n",
       "      <th>weighted avg</th>\n",
       "      <td>0.962494</td>\n",
       "      <td>0.962789</td>\n",
       "      <td>0.9625</td>\n",
       "      <td>480.0</td>\n",
       "    </tr>\n",
       "  </tbody>\n",
       "</table>\n",
       "</div>"
      ],
      "text/plain": [
       "              f1-score  precision  recall  support\n",
       "negative      0.962963   0.951220  0.9750    240.0\n",
       "positive      0.962025   0.974359  0.9500    240.0\n",
       "micro avg     0.962500   0.962500  0.9625    480.0\n",
       "macro avg     0.962494   0.962789  0.9625    480.0\n",
       "weighted avg  0.962494   0.962789  0.9625    480.0"
      ]
     },
     "execution_count": 25,
     "metadata": {},
     "output_type": "execute_result"
    }
   ],
   "source": [
    "save_class_report_cv(log_reg_grid_search_p, X_test, y_test, [\"negative\", \"positive\"], \"output/log_re_norm1_report_sent.csv\")"
   ]
  },
  {
   "cell_type": "code",
   "execution_count": 26,
   "metadata": {},
   "outputs": [
    {
     "data": {
      "text/plain": [
       "['output/log_re_norm1_sent.pkl']"
      ]
     },
     "execution_count": 26,
     "metadata": {},
     "output_type": "execute_result"
    }
   ],
   "source": [
    "from sklearn.externals import joblib\n",
    "joblib.dump(log_reg_grid_search_p.best_estimator_, 'output/log_re_norm1_sent.pkl')"
   ]
  },
  {
   "cell_type": "code",
   "execution_count": null,
   "metadata": {},
   "outputs": [],
   "source": []
  },
  {
   "cell_type": "markdown",
   "metadata": {},
   "source": [
    "__8b. Identify important features for sentiment analysis__"
   ]
  },
  {
   "cell_type": "code",
   "execution_count": 29,
   "metadata": {},
   "outputs": [
    {
     "name": "stdout",
     "output_type": "stream",
     "text": [
      "Features with lowest tfidf:\n",
      "['in point' 'talk with' 'its way' 'of itself' 'be getting' 'didn discover'\n",
      " 'several bottles' 'too but' 'were definitely' 'chaos' 'are frequent'\n",
      " 'was saturday' 'account again' 'omni for' 'vinegar' 'chains' 'space to'\n",
      " 'explained the' 'agreed but' 'all out']\n",
      "Features with highest tfidf: \n",
      "['compared to' 'ice' 'bathrobe' 'hilton' 'the affina' 'the construction'\n",
      " '00' 'mother' 'children' 'computers' 'our guests' 'deal' 'cab' 'garage'\n",
      " 'cousin' 'my cousin' 'policy' 'avoid' 'affina' 'yellow']\n"
     ]
    }
   ],
   "source": [
    "vectorizer = log_reg_grid_search_p.best_estimator_.named_steps[\"vect\"]\n",
    "tfidf = log_reg_grid_search_p.best_estimator_.named_steps[\"tfidf\"]\n",
    "\n",
    "# transform the training dataset\n",
    "X_train1 = vectorizer.transform(X_train)\n",
    "X_train1 = tfidf.transform(X_train1)\n",
    "\n",
    "max_value = X_train1.max(axis=0).toarray().ravel()\n",
    "sorted_by_tfidf = max_value.argsort()\n",
    "\n",
    "feature_names = np.array(vectorizer.get_feature_names())\n",
    "\n",
    "print(\"Features with lowest tfidf:\\n{}\".format(\n",
    "    feature_names[sorted_by_tfidf[:20]]))\n",
    "\n",
    "print(\"Features with highest tfidf: \\n{}\".format(\n",
    "    feature_names[sorted_by_tfidf[-20:]]))"
   ]
  },
  {
   "cell_type": "code",
   "execution_count": 31,
   "metadata": {},
   "outputs": [
    {
     "data": {
      "image/png": "[encoded data removed]",
      "text/plain": [
       "<Figure size 1080x360 with 1 Axes>"
      ]
     },
     "metadata": {
      "needs_background": "light"
     },
     "output_type": "display_data"
    }
   ],
   "source": [
    "import mglearn\n",
    "\n",
    "mglearn.tools.visualize_coefficients(\n",
    "    log_reg_grid_search_p.best_estimator_.named_steps[\"clf\"].coef_,\n",
    "    feature_names, n_top_features=30)"
   ]
  },
  {
   "cell_type": "markdown",
   "metadata": {},
   "source": [
    "__Observation:__ The negative coefficients on the left belong to words that represent negative reviews, while the positive coefficients on the right represent positive reviews. In this case the words are quite clear cut, with negative reviews featuring \"not\", \"no\" \"rude\", \"worse\", \"terrribe\" and \"dissappointed\" while the positive reviews feature \"great\", \"comfortable\", \"Wonderful\" and \"excellent\""
   ]
  },
  {
   "cell_type": "code",
   "execution_count": null,
   "metadata": {},
   "outputs": [],
   "source": []
  }
 ],
 "metadata": {
  "kernelspec": {
   "display_name": "Python [conda env:thesis]",
   "language": "python",
   "name": "conda-env-thesis-py"
  },
  "language_info": {
   "codemirror_mode": {
    "name": "ipython",
    "version": 3
   },
   "file_extension": ".py",
   "mimetype": "text/x-python",
   "name": "python",
   "nbconvert_exporter": "python",
   "pygments_lexer": "ipython3",
   "version": "3.6.8"
  }
 },
 "nbformat": 4,
 "nbformat_minor": 2
}
